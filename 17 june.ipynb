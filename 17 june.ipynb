{
 "cells": [
  {
   "cell_type": "markdown",
   "id": "487dd1cf",
   "metadata": {},
   "source": [
    "1. What is the role of try and exception block?\n",
    "- The role of try and except block in python is to test a block code for errors and handle them in controlled way"
   ]
  },
  {
   "cell_type": "markdown",
   "id": "77b05386",
   "metadata": {},
   "source": [
    "2. What is the syntax for a basic try-except block?"
   ]
  },
  {
   "cell_type": "code",
   "execution_count": 1,
   "id": "de02be27",
   "metadata": {},
   "outputs": [
    {
     "name": "stdout",
     "output_type": "stream",
     "text": [
      "There is no x\n"
     ]
    }
   ],
   "source": [
    "try:\n",
    "    print(x)\n",
    "except:\n",
    "    print(\"There is no x\")"
   ]
  },
  {
   "cell_type": "markdown",
   "id": "b303e501",
   "metadata": {},
   "source": [
    "3. What happens if an exception occurs inside a try block and there is no matching\n",
    "except block?\n",
    "- if an exception occurs inside a try block and there is no matching except block, then the program will terminate and an error message will be displayed."
   ]
  },
  {
   "cell_type": "code",
   "execution_count": 47,
   "id": "5a14b878",
   "metadata": {},
   "outputs": [
    {
     "ename": "NameError",
     "evalue": "name 'x' is not defined",
     "output_type": "error",
     "traceback": [
      "\u001b[1;31m---------------------------------------------------------------------------\u001b[0m",
      "\u001b[1;31mNameError\u001b[0m                                 Traceback (most recent call last)",
      "Cell \u001b[1;32mIn[47], line 3\u001b[0m\n\u001b[0;32m      1\u001b[0m \u001b[38;5;66;03m# for example\u001b[39;00m\n\u001b[0;32m      2\u001b[0m \u001b[38;5;28;01mtry\u001b[39;00m:\n\u001b[1;32m----> 3\u001b[0m     \u001b[38;5;28;01mif\u001b[39;00m x\u001b[38;5;241m==\u001b[39m\u001b[38;5;241m2\u001b[39m :\n\u001b[0;32m      4\u001b[0m         \u001b[38;5;28mprint\u001b[39m(\u001b[38;5;124m\"\u001b[39m\u001b[38;5;124myes\u001b[39m\u001b[38;5;124m\"\u001b[39m)\n\u001b[0;32m      5\u001b[0m \u001b[38;5;28;01mexcept\u001b[39;00m \u001b[38;5;167;01mKeyError\u001b[39;00m :    \n",
      "\u001b[1;31mNameError\u001b[0m: name 'x' is not defined"
     ]
    }
   ],
   "source": [
    "# for example\n",
    "try:\n",
    "    if x==2 :\n",
    "        print(\"yes\")\n",
    "except KeyError :    \n",
    "    print(\"Key not found\")\n"
   ]
  },
  {
   "cell_type": "markdown",
   "id": "f62cebb9",
   "metadata": {},
   "source": [
    "4. What is the difference between using a bare except block and specifying a specific\n",
    "exception type?\n",
    "- A bare except block can catch any and all kinds of exceptions, while specifying a specific exception type will catch only that exception and its subclasses."
   ]
  },
  {
   "cell_type": "markdown",
   "id": "6e5cdcdb",
   "metadata": {},
   "source": [
    "5. Can you have nested try-except blocks in Python? If yes, then give an example.\n",
    "- Yes we can use nested try-except blocks"
   ]
  },
  {
   "cell_type": "code",
   "execution_count": 36,
   "id": "1a0fcae9",
   "metadata": {},
   "outputs": [
    {
     "name": "stdout",
     "output_type": "stream",
     "text": [
      "There is no c and d\n",
      "Nested\n"
     ]
    }
   ],
   "source": [
    "# Example \n",
    "try:\n",
    "    a=10\n",
    "    b=20\n",
    "    try:\n",
    "        print(c)\n",
    "    except:\n",
    "        try:\n",
    "            print(d)\n",
    "        except:\n",
    "            print(\"There is no c and d\")\n",
    "        finally:\n",
    "            print(\"Nested\")\n",
    "except:\n",
    "    print(\"value error\")\n",
    "        "
   ]
  },
  {
   "cell_type": "markdown",
   "id": "e25123c6",
   "metadata": {},
   "source": [
    "6. Can we use multiple exception blocks, if yes then give an example.\n",
    "- We only use one bare exception block but we can use multiple specific exception blocks"
   ]
  },
  {
   "cell_type": "code",
   "execution_count": 44,
   "id": "ba684378",
   "metadata": {},
   "outputs": [
    {
     "ename": "SyntaxError",
     "evalue": "default 'except:' must be last (1473108440.py, line 4)",
     "output_type": "error",
     "traceback": [
      "\u001b[1;36m  Cell \u001b[1;32mIn[44], line 4\u001b[1;36m\u001b[0m\n\u001b[1;33m    except:\u001b[0m\n\u001b[1;37m    ^\u001b[0m\n\u001b[1;31mSyntaxError\u001b[0m\u001b[1;31m:\u001b[0m default 'except:' must be last\n"
     ]
    }
   ],
   "source": [
    "# Example of multiple bare exception\n",
    "try:\n",
    "    print(x)\n",
    "except:\n",
    "    print(\"value error\")\n",
    "except:\n",
    "    print(\"key not found\")\n",
    "except:\n",
    "    print(\"Name not defined\")\n",
    "except SyntaxError :\n",
    "    print(\"error\")"
   ]
  },
  {
   "cell_type": "code",
   "execution_count": 42,
   "id": "c22f7223",
   "metadata": {},
   "outputs": [
    {
     "name": "stdout",
     "output_type": "stream",
     "text": [
      "Name not defined\n"
     ]
    }
   ],
   "source": [
    "# Example of multiple specific exception\n",
    "try:\n",
    "    print(x)\n",
    "except ValueError:\n",
    "    print(\"value error\")\n",
    "except KeyError:\n",
    "    print(\"key not found\")\n",
    "except NameError:\n",
    "    print(\"Name not defined\")"
   ]
  },
  {
   "cell_type": "markdown",
   "id": "767347ff",
   "metadata": {},
   "source": [
    "7. Write the reason due to which following errors are raised:\n",
    "- EOFError:- Raised when one of the built-in functions input() or raw_input() hits an end-of-file condition (EOF) without reading any data\n",
    "- FloatingPointError:- Raised in Python when a floating-point calculation fails\n",
    "- IndexError:-  Raised when a sequence subscript is out of range.\n",
    "- MemoryError:- Raised when an operation runs out of memory.\n",
    "- OverflowError:- Raised when the result of an arithmetic operation is too large to be expressed by the normal number format.\n",
    "- TabError:- Raised when you try to indent code using both spaces and tabs.\n",
    "- ValueError:- Raised when a built-in operation or function receives an argument that has the right type but an inappropriate value."
   ]
  },
  {
   "cell_type": "markdown",
   "id": "94079304",
   "metadata": {},
   "source": [
    "8. Write code for the following given scenario and add try-exception block to it.\n",
    "- a. Program to divide two numbers\n",
    "- b. Program to convert a string to an integer\n",
    "- c. Program to access an element in a list\n",
    "- d. Program to handle a specific exception\n",
    "- e. Program to handle any exception"
   ]
  },
  {
   "cell_type": "code",
   "execution_count": 17,
   "id": "41df7c49",
   "metadata": {},
   "outputs": [
    {
     "name": "stdout",
     "output_type": "stream",
     "text": [
      "Enter number: 3\n",
      "Enter Divisor: 0\n",
      "Do not use zero as divisor\n"
     ]
    }
   ],
   "source": [
    "# Program to divide two numbers \n",
    "def divide():\n",
    "    n=float(input(\"Enter number: \"))\n",
    "    d=float(input(\"Enter Divisor: \"))\n",
    "    try:\n",
    "        result=n/d\n",
    "        print(result)\n",
    "    except ZeroDivisionError:\n",
    "        print(\"Do not use zero as divisor\")\n",
    "\n",
    "divide()"
   ]
  },
  {
   "cell_type": "code",
   "execution_count": 26,
   "id": "4a32ae72",
   "metadata": {},
   "outputs": [
    {
     "name": "stdout",
     "output_type": "stream",
     "text": [
      "Enter string: name\n",
      "Use valid literal for integar value \n"
     ]
    }
   ],
   "source": [
    "# Program to convert a string to an integer\n",
    "def str_to_int(string):\n",
    "    try:\n",
    "        result=int(string)\n",
    "        print(\"integer value:\",string)\n",
    "    except ValueError:\n",
    "        print(\"Use valid literal for integar value \")\n",
    "    \n",
    "st=input(\"Enter string: \")\n",
    "str_to_int(st)"
   ]
  },
  {
   "cell_type": "code",
   "execution_count": 36,
   "id": "84d0b410",
   "metadata": {},
   "outputs": [
    {
     "name": "stdout",
     "output_type": "stream",
     "text": [
      "Enter index value: 9\n",
      "Your Value is out of index\n"
     ]
    }
   ],
   "source": [
    "# Program to access an element in a list\n",
    "\n",
    "elements=[1,2,3,4,5,'a','b','c']\n",
    "i=int(input(\"Enter index value: \"))\n",
    "try:\n",
    "    print(elements[i])\n",
    "except IndexError:\n",
    "    print(\"Your Value is out of index\")\n",
    "    "
   ]
  },
  {
   "cell_type": "code",
   "execution_count": 39,
   "id": "90e1e34b",
   "metadata": {},
   "outputs": [
    {
     "name": "stdout",
     "output_type": "stream",
     "text": [
      "Value of x is not defined\n"
     ]
    }
   ],
   "source": [
    "# Program to handle a specific exception\n",
    "try:\n",
    "    print(x)\n",
    "except NameError:    # this is an example of specific exception it only handle Name Error\n",
    "    print(\"Value of x is not defined\")"
   ]
  },
  {
   "cell_type": "code",
   "execution_count": 62,
   "id": "ce5244f6",
   "metadata": {},
   "outputs": [
    {
     "name": "stdout",
     "output_type": "stream",
     "text": [
      "Error in above block\n"
     ]
    }
   ],
   "source": [
    "# Program to handle any exception\n",
    "def handle():\n",
    "    try:\n",
    "        result - ab\n",
    "        pint()\n",
    "    except:           # A bare except block is used to handle any Error\n",
    "        print(\"Error in above block\")\n",
    "handle()"
   ]
  }
 ],
 "metadata": {
  "kernelspec": {
   "display_name": "Python 3 (ipykernel)",
   "language": "python",
   "name": "python3"
  },
  "language_info": {
   "codemirror_mode": {
    "name": "ipython",
    "version": 3
   },
   "file_extension": ".py",
   "mimetype": "text/x-python",
   "name": "python",
   "nbconvert_exporter": "python",
   "pygments_lexer": "ipython3",
   "version": "3.11.3"
  }
 },
 "nbformat": 4,
 "nbformat_minor": 5
}
